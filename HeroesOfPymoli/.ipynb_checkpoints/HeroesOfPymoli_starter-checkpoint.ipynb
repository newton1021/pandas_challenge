{
 "cells": [
  {
   "cell_type": "markdown",
   "metadata": {},
   "source": [
    "# Pandas: Heroes of Pymoli"
   ]
  },
  {
   "cell_type": "code",
   "execution_count": 1,
   "metadata": {},
   "outputs": [],
   "source": [
    "# Dependencies and Setup\n",
    "import pandas as pd\n",
    "\n",
    "# File to Load (Remember to Change These)\n",
    "file_to_load = \"Resources/purchase_data.csv\"\n",
    "\n",
    "# Read Purchasing File and store into Pandas data frame\n",
    "purchase_data = pd.read_csv(file_to_load)"
   ]
  },
  {
   "cell_type": "code",
   "execution_count": 2,
   "metadata": {},
   "outputs": [
    {
     "data": {
      "text/html": [
       "<div>\n",
       "<style scoped>\n",
       "    .dataframe tbody tr th:only-of-type {\n",
       "        vertical-align: middle;\n",
       "    }\n",
       "\n",
       "    .dataframe tbody tr th {\n",
       "        vertical-align: top;\n",
       "    }\n",
       "\n",
       "    .dataframe thead th {\n",
       "        text-align: right;\n",
       "    }\n",
       "</style>\n",
       "<table border=\"1\" class=\"dataframe\">\n",
       "  <thead>\n",
       "    <tr style=\"text-align: right;\">\n",
       "      <th></th>\n",
       "      <th>Purchase ID</th>\n",
       "      <th>SN</th>\n",
       "      <th>Age</th>\n",
       "      <th>Gender</th>\n",
       "      <th>Item ID</th>\n",
       "      <th>Item Name</th>\n",
       "      <th>Price</th>\n",
       "    </tr>\n",
       "  </thead>\n",
       "  <tbody>\n",
       "    <tr>\n",
       "      <th>0</th>\n",
       "      <td>0</td>\n",
       "      <td>Lisim78</td>\n",
       "      <td>20</td>\n",
       "      <td>Male</td>\n",
       "      <td>108</td>\n",
       "      <td>Extraction, Quickblade Of Trembling Hands</td>\n",
       "      <td>3.53</td>\n",
       "    </tr>\n",
       "    <tr>\n",
       "      <th>1</th>\n",
       "      <td>1</td>\n",
       "      <td>Lisovynya38</td>\n",
       "      <td>40</td>\n",
       "      <td>Male</td>\n",
       "      <td>143</td>\n",
       "      <td>Frenzied Scimitar</td>\n",
       "      <td>1.56</td>\n",
       "    </tr>\n",
       "    <tr>\n",
       "      <th>2</th>\n",
       "      <td>2</td>\n",
       "      <td>Ithergue48</td>\n",
       "      <td>24</td>\n",
       "      <td>Male</td>\n",
       "      <td>92</td>\n",
       "      <td>Final Critic</td>\n",
       "      <td>4.88</td>\n",
       "    </tr>\n",
       "    <tr>\n",
       "      <th>3</th>\n",
       "      <td>3</td>\n",
       "      <td>Chamassasya86</td>\n",
       "      <td>24</td>\n",
       "      <td>Male</td>\n",
       "      <td>100</td>\n",
       "      <td>Blindscythe</td>\n",
       "      <td>3.27</td>\n",
       "    </tr>\n",
       "    <tr>\n",
       "      <th>4</th>\n",
       "      <td>4</td>\n",
       "      <td>Iskosia90</td>\n",
       "      <td>23</td>\n",
       "      <td>Male</td>\n",
       "      <td>131</td>\n",
       "      <td>Fury</td>\n",
       "      <td>1.44</td>\n",
       "    </tr>\n",
       "  </tbody>\n",
       "</table>\n",
       "</div>"
      ],
      "text/plain": [
       "   Purchase ID             SN  Age Gender  Item ID  \\\n",
       "0            0        Lisim78   20   Male      108   \n",
       "1            1    Lisovynya38   40   Male      143   \n",
       "2            2     Ithergue48   24   Male       92   \n",
       "3            3  Chamassasya86   24   Male      100   \n",
       "4            4      Iskosia90   23   Male      131   \n",
       "\n",
       "                                   Item Name  Price  \n",
       "0  Extraction, Quickblade Of Trembling Hands   3.53  \n",
       "1                          Frenzied Scimitar   1.56  \n",
       "2                               Final Critic   4.88  \n",
       "3                                Blindscythe   3.27  \n",
       "4                                       Fury   1.44  "
      ]
     },
     "execution_count": 2,
     "metadata": {},
     "output_type": "execute_result"
    }
   ],
   "source": [
    "purchase_data.head()"
   ]
  },
  {
   "cell_type": "markdown",
   "metadata": {},
   "source": [
    "## Player Count"
   ]
  },
  {
   "cell_type": "markdown",
   "metadata": {},
   "source": [
    "* Display the total number of players\n"
   ]
  },
  {
   "cell_type": "code",
   "execution_count": 3,
   "metadata": {},
   "outputs": [
    {
     "name": "stdout",
     "output_type": "stream",
     "text": [
      "Unique players 576 out of 780 entries\n"
     ]
    }
   ],
   "source": [
    "total_players = purchase_data['SN'].unique()\n",
    "datacount = purchase_data['SN'].count()\n",
    "print(f'Unique players {len(total_players)} out of {datacount} entries')"
   ]
  },
  {
   "cell_type": "markdown",
   "metadata": {},
   "source": [
    "## Purchasing Analysis (Total)"
   ]
  },
  {
   "cell_type": "markdown",
   "metadata": {},
   "source": [
    "* Run basic calculations to obtain number of unique items, average price, etc.\n",
    "\n",
    "\n",
    "* Create a summary data frame to hold the results\n",
    "\n",
    "\n",
    "* Optional: give the displayed data cleaner formatting\n",
    "\n",
    "\n",
    "* Display the summary data frame\n"
   ]
  },
  {
   "cell_type": "code",
   "execution_count": 4,
   "metadata": {},
   "outputs": [
    {
     "name": "stdout",
     "output_type": "stream",
     "text": [
      "Number of Unique Items is 179\n"
     ]
    }
   ],
   "source": [
    "unique_items = purchase_data['Item Name'].unique()\n",
    "print(f'Number of Unique Items is {len(unique_items)}')"
   ]
  },
  {
   "cell_type": "code",
   "execution_count": 5,
   "metadata": {},
   "outputs": [
    {
     "name": "stdout",
     "output_type": "stream",
     "text": [
      "Average price is $3.05 for a total revenue of $2379.77\n"
     ]
    }
   ],
   "source": [
    "average_price = purchase_data['Price'].mean()\n",
    "total_revenue = purchase_data['Price'].sum()\n",
    "print(f'Average price is ${average_price:0.2f} for a total revenue of ${total_revenue:.2f}')"
   ]
  },
  {
   "cell_type": "code",
   "execution_count": 6,
   "metadata": {
    "scrolled": true
   },
   "outputs": [],
   "source": [
    "total_df = pd.DataFrame({'Unique Items' : [f'{len(unique_items)}'],\n",
    "                        'Average Price' : [f'${average_price:0.2f}'],\n",
    "                         'Purchases'    : [f'{datacount}'],\n",
    "                        'Total Revenue' : [f'${total_revenue:.2f}']})\n",
    "total_df.index = ['Summary']"
   ]
  },
  {
   "cell_type": "code",
   "execution_count": 7,
   "metadata": {},
   "outputs": [
    {
     "name": "stdout",
     "output_type": "stream",
     "text": [
      "Summary: Purchase Analysis\n"
     ]
    },
    {
     "data": {
      "text/html": [
       "<div>\n",
       "<style scoped>\n",
       "    .dataframe tbody tr th:only-of-type {\n",
       "        vertical-align: middle;\n",
       "    }\n",
       "\n",
       "    .dataframe tbody tr th {\n",
       "        vertical-align: top;\n",
       "    }\n",
       "\n",
       "    .dataframe thead th {\n",
       "        text-align: right;\n",
       "    }\n",
       "</style>\n",
       "<table border=\"1\" class=\"dataframe\">\n",
       "  <thead>\n",
       "    <tr style=\"text-align: right;\">\n",
       "      <th></th>\n",
       "      <th>Unique Items</th>\n",
       "      <th>Average Price</th>\n",
       "      <th>Purchases</th>\n",
       "      <th>Total Revenue</th>\n",
       "    </tr>\n",
       "  </thead>\n",
       "  <tbody>\n",
       "    <tr>\n",
       "      <th>Summary</th>\n",
       "      <td>179</td>\n",
       "      <td>$3.05</td>\n",
       "      <td>780</td>\n",
       "      <td>$2379.77</td>\n",
       "    </tr>\n",
       "  </tbody>\n",
       "</table>\n",
       "</div>"
      ],
      "text/plain": [
       "        Unique Items Average Price Purchases Total Revenue\n",
       "Summary          179         $3.05       780      $2379.77"
      ]
     },
     "execution_count": 7,
     "metadata": {},
     "output_type": "execute_result"
    }
   ],
   "source": [
    "print(\"Summary: Purchase Analysis\")\n",
    "total_df"
   ]
  },
  {
   "cell_type": "code",
   "execution_count": null,
   "metadata": {},
   "outputs": [],
   "source": []
  },
  {
   "cell_type": "markdown",
   "metadata": {},
   "source": [
    "## Gender Demographics"
   ]
  },
  {
   "cell_type": "code",
   "execution_count": 8,
   "metadata": {},
   "outputs": [],
   "source": [
    "byID = purchase_data.groupby(\"SN\")\n",
    "player_count = len(byID)\n",
    "demographics = purchase_data.groupby(['SN', 'Gender']).size().unstack().count()\n",
    "df = pd.DataFrame(demographics)\n",
    "df.columns = ['Count']\n",
    "df['Percent'] = df['Count'] / player_count * 100\n",
    "df['Percent'] = df['Percent'].map('{:0.2f}%'.format)"
   ]
  },
  {
   "cell_type": "code",
   "execution_count": 9,
   "metadata": {},
   "outputs": [
    {
     "name": "stdout",
     "output_type": "stream",
     "text": [
      "Results: Gender Demographics\n"
     ]
    },
    {
     "data": {
      "text/html": [
       "<div>\n",
       "<style scoped>\n",
       "    .dataframe tbody tr th:only-of-type {\n",
       "        vertical-align: middle;\n",
       "    }\n",
       "\n",
       "    .dataframe tbody tr th {\n",
       "        vertical-align: top;\n",
       "    }\n",
       "\n",
       "    .dataframe thead th {\n",
       "        text-align: right;\n",
       "    }\n",
       "</style>\n",
       "<table border=\"1\" class=\"dataframe\">\n",
       "  <thead>\n",
       "    <tr style=\"text-align: right;\">\n",
       "      <th></th>\n",
       "      <th>Count</th>\n",
       "      <th>Percent</th>\n",
       "    </tr>\n",
       "    <tr>\n",
       "      <th>Gender</th>\n",
       "      <th></th>\n",
       "      <th></th>\n",
       "    </tr>\n",
       "  </thead>\n",
       "  <tbody>\n",
       "    <tr>\n",
       "      <th>Female</th>\n",
       "      <td>81</td>\n",
       "      <td>14.06%</td>\n",
       "    </tr>\n",
       "    <tr>\n",
       "      <th>Male</th>\n",
       "      <td>484</td>\n",
       "      <td>84.03%</td>\n",
       "    </tr>\n",
       "    <tr>\n",
       "      <th>Other / Non-Disclosed</th>\n",
       "      <td>11</td>\n",
       "      <td>1.91%</td>\n",
       "    </tr>\n",
       "  </tbody>\n",
       "</table>\n",
       "</div>"
      ],
      "text/plain": [
       "                       Count Percent\n",
       "Gender                              \n",
       "Female                    81  14.06%\n",
       "Male                     484  84.03%\n",
       "Other / Non-Disclosed     11   1.91%"
      ]
     },
     "execution_count": 9,
     "metadata": {},
     "output_type": "execute_result"
    }
   ],
   "source": [
    "print(\"Results: Gender Demographics\")\n",
    "df"
   ]
  },
  {
   "cell_type": "markdown",
   "metadata": {},
   "source": [
    "\n",
    "## Purchasing Analysis (Gender)"
   ]
  },
  {
   "cell_type": "code",
   "execution_count": 10,
   "metadata": {},
   "outputs": [],
   "source": [
    "purch_count = purchase_data.groupby(['SN', 'Gender']) ['Price'].agg(['sum','count'])\n",
    "df = purch_count.reset_index()\n"
   ]
  },
  {
   "cell_type": "code",
   "execution_count": 11,
   "metadata": {},
   "outputs": [],
   "source": [
    "byGender = df.groupby('Gender').agg({'sum': ['count', 'sum', 'mean'],\n",
    "                         'count': ['mean','sum']})\n",
    "byGender.columns = ['Number of Buyers', \n",
    "                    'Purchase Total', \n",
    "                    'Average Purchase per Person', \n",
    "                    'Avg. Purchases Per Person',\n",
    "                   'Total Items']\n",
    "\n",
    "\n",
    "byGender['Average Purchase Price'] = byGender['Purchase Total'] / byGender['Total Items']\n",
    "\n",
    "byGender['Average Purchase per Person'] = byGender['Average Purchase per Person'].map('${:0.2f}'.format)\n",
    "byGender['Average Purchase Price'] = byGender['Average Purchase Price'].map('${:0.2f}'.format)\n",
    "byGender['Purchase Total'] = byGender['Purchase Total'].map('${:0.2f}'.format)"
   ]
  },
  {
   "cell_type": "code",
   "execution_count": 12,
   "metadata": {},
   "outputs": [],
   "source": [
    "byGender_df = byGender[['Number of Buyers','Total Items', 'Average Purchase Price','Purchase Total', 'Average Purchase per Person']]"
   ]
  },
  {
   "cell_type": "code",
   "execution_count": 13,
   "metadata": {},
   "outputs": [
    {
     "data": {
      "text/html": [
       "<div>\n",
       "<style scoped>\n",
       "    .dataframe tbody tr th:only-of-type {\n",
       "        vertical-align: middle;\n",
       "    }\n",
       "\n",
       "    .dataframe tbody tr th {\n",
       "        vertical-align: top;\n",
       "    }\n",
       "\n",
       "    .dataframe thead th {\n",
       "        text-align: right;\n",
       "    }\n",
       "</style>\n",
       "<table border=\"1\" class=\"dataframe\">\n",
       "  <thead>\n",
       "    <tr style=\"text-align: right;\">\n",
       "      <th></th>\n",
       "      <th>Number of Buyers</th>\n",
       "      <th>Total Items</th>\n",
       "      <th>Average Purchase Price</th>\n",
       "      <th>Purchase Total</th>\n",
       "      <th>Average Purchase per Person</th>\n",
       "    </tr>\n",
       "    <tr>\n",
       "      <th>Gender</th>\n",
       "      <th></th>\n",
       "      <th></th>\n",
       "      <th></th>\n",
       "      <th></th>\n",
       "      <th></th>\n",
       "    </tr>\n",
       "  </thead>\n",
       "  <tbody>\n",
       "    <tr>\n",
       "      <th>Female</th>\n",
       "      <td>81</td>\n",
       "      <td>113</td>\n",
       "      <td>$3.20</td>\n",
       "      <td>$361.94</td>\n",
       "      <td>$4.47</td>\n",
       "    </tr>\n",
       "    <tr>\n",
       "      <th>Male</th>\n",
       "      <td>484</td>\n",
       "      <td>652</td>\n",
       "      <td>$3.02</td>\n",
       "      <td>$1967.64</td>\n",
       "      <td>$4.07</td>\n",
       "    </tr>\n",
       "    <tr>\n",
       "      <th>Other / Non-Disclosed</th>\n",
       "      <td>11</td>\n",
       "      <td>15</td>\n",
       "      <td>$3.35</td>\n",
       "      <td>$50.19</td>\n",
       "      <td>$4.56</td>\n",
       "    </tr>\n",
       "  </tbody>\n",
       "</table>\n",
       "</div>"
      ],
      "text/plain": [
       "                       Number of Buyers  Total Items Average Purchase Price  \\\n",
       "Gender                                                                        \n",
       "Female                               81          113                  $3.20   \n",
       "Male                                484          652                  $3.02   \n",
       "Other / Non-Disclosed                11           15                  $3.35   \n",
       "\n",
       "                      Purchase Total Average Purchase per Person  \n",
       "Gender                                                            \n",
       "Female                       $361.94                       $4.47  \n",
       "Male                        $1967.64                       $4.07  \n",
       "Other / Non-Disclosed         $50.19                       $4.56  "
      ]
     },
     "execution_count": 13,
     "metadata": {},
     "output_type": "execute_result"
    }
   ],
   "source": [
    "byGender_df"
   ]
  },
  {
   "cell_type": "markdown",
   "metadata": {},
   "source": [
    "## Age Demographics"
   ]
  },
  {
   "cell_type": "code",
   "execution_count": 14,
   "metadata": {},
   "outputs": [],
   "source": [
    "age_max = max(purchase_data['Age'])\n",
    "age_min = min(purchase_data['Age'])"
   ]
  },
  {
   "cell_type": "code",
   "execution_count": 15,
   "metadata": {},
   "outputs": [],
   "source": [
    "ages = [a for a in range(10,age_max,4)]\n",
    "ages.insert(0, 0)\n",
    "ages.append(100)\n",
    "age_labels = [str(a) for a in ages]\n",
    "labels = []\n",
    "for idx, alab in enumerate(age_labels):\n",
    "    if idx == 0:\n",
    "        labels.append(f'< {age_labels[idx+1]}')\n",
    "    elif idx == len(ages) - 2:\n",
    "        \n",
    "        labels.append(f'> {age_labels[idx]}')\n",
    "        break\n",
    "    else:\n",
    "        labels.append(f'{age_labels[idx]}-{age_labels[idx+1]}')\n",
    "        "
   ]
  },
  {
   "cell_type": "code",
   "execution_count": 16,
   "metadata": {},
   "outputs": [],
   "source": [
    "by_age_df = purchase_data\n",
    "by_age_df['Age Category'] = pd.cut(purchase_data['Age'], ages, labels = labels)"
   ]
  },
  {
   "cell_type": "code",
   "execution_count": 17,
   "metadata": {
    "scrolled": true
   },
   "outputs": [],
   "source": [
    "by_age_df_2 = by_age_df.groupby(['SN','Age Category'])['Price'].agg(['sum','count'])\n",
    "df = by_age_df_2.reset_index()\n",
    "df = df[df['count']>0]\n",
    "df['person'] = 1\n",
    "df = df.groupby('Age Category').agg({'count':'count'}).reset_index()\n",
    "df['Percent'] = df['count']/ player_count * 100\n",
    "\n",
    "df['Percent'] = df['Percent'].map('{:0.2f}%'.format)\n",
    "df = df.rename(columns={'count':'Number of Buyers'})"
   ]
  },
  {
   "cell_type": "code",
   "execution_count": 18,
   "metadata": {},
   "outputs": [
    {
     "data": {
      "text/html": [
       "<div>\n",
       "<style scoped>\n",
       "    .dataframe tbody tr th:only-of-type {\n",
       "        vertical-align: middle;\n",
       "    }\n",
       "\n",
       "    .dataframe tbody tr th {\n",
       "        vertical-align: top;\n",
       "    }\n",
       "\n",
       "    .dataframe thead th {\n",
       "        text-align: right;\n",
       "    }\n",
       "</style>\n",
       "<table border=\"1\" class=\"dataframe\">\n",
       "  <thead>\n",
       "    <tr style=\"text-align: right;\">\n",
       "      <th></th>\n",
       "      <th>Age Category</th>\n",
       "      <th>Number of Buyers</th>\n",
       "      <th>Percent</th>\n",
       "    </tr>\n",
       "  </thead>\n",
       "  <tbody>\n",
       "    <tr>\n",
       "      <th>0</th>\n",
       "      <td>&lt; 10</td>\n",
       "      <td>24</td>\n",
       "      <td>4.17%</td>\n",
       "    </tr>\n",
       "    <tr>\n",
       "      <th>1</th>\n",
       "      <td>10-14</td>\n",
       "      <td>15</td>\n",
       "      <td>2.60%</td>\n",
       "    </tr>\n",
       "    <tr>\n",
       "      <th>2</th>\n",
       "      <td>14-18</td>\n",
       "      <td>90</td>\n",
       "      <td>15.62%</td>\n",
       "    </tr>\n",
       "    <tr>\n",
       "      <th>3</th>\n",
       "      <td>18-22</td>\n",
       "      <td>178</td>\n",
       "      <td>30.90%</td>\n",
       "    </tr>\n",
       "    <tr>\n",
       "      <th>4</th>\n",
       "      <td>22-26</td>\n",
       "      <td>151</td>\n",
       "      <td>26.22%</td>\n",
       "    </tr>\n",
       "    <tr>\n",
       "      <th>5</th>\n",
       "      <td>26-30</td>\n",
       "      <td>48</td>\n",
       "      <td>8.33%</td>\n",
       "    </tr>\n",
       "    <tr>\n",
       "      <th>6</th>\n",
       "      <td>30-34</td>\n",
       "      <td>27</td>\n",
       "      <td>4.69%</td>\n",
       "    </tr>\n",
       "    <tr>\n",
       "      <th>7</th>\n",
       "      <td>34-38</td>\n",
       "      <td>25</td>\n",
       "      <td>4.34%</td>\n",
       "    </tr>\n",
       "    <tr>\n",
       "      <th>8</th>\n",
       "      <td>38-42</td>\n",
       "      <td>14</td>\n",
       "      <td>2.43%</td>\n",
       "    </tr>\n",
       "    <tr>\n",
       "      <th>9</th>\n",
       "      <td>&gt; 42</td>\n",
       "      <td>4</td>\n",
       "      <td>0.69%</td>\n",
       "    </tr>\n",
       "  </tbody>\n",
       "</table>\n",
       "</div>"
      ],
      "text/plain": [
       "  Age Category  Number of Buyers Percent\n",
       "0         < 10                24   4.17%\n",
       "1        10-14                15   2.60%\n",
       "2        14-18                90  15.62%\n",
       "3        18-22               178  30.90%\n",
       "4        22-26               151  26.22%\n",
       "5        26-30                48   8.33%\n",
       "6        30-34                27   4.69%\n",
       "7        34-38                25   4.34%\n",
       "8        38-42                14   2.43%\n",
       "9         > 42                 4   0.69%"
      ]
     },
     "execution_count": 18,
     "metadata": {},
     "output_type": "execute_result"
    }
   ],
   "source": [
    "df"
   ]
  },
  {
   "cell_type": "markdown",
   "metadata": {},
   "source": [
    "## Purchasing Analysis (Age)"
   ]
  },
  {
   "cell_type": "code",
   "execution_count": 19,
   "metadata": {},
   "outputs": [],
   "source": [
    "age_purch_df = by_age_df.groupby(['SN', 'Age Category']) ['Price'].agg(['sum','count'])\n",
    "df = age_purch_df.reset_index()\n",
    "df = df[df['count']>0]\n",
    "\n",
    "byAge = df.groupby('Age Category').agg({'sum': ['count', 'sum', 'mean'],\n",
    "                        'count': ['mean','sum']})\n",
    "byAge.columns = ['Player Count', \n",
    "                    'Purchase Total', \n",
    "                    'Average Purchase per Person', \n",
    "                    'Avg. Purchases Per Person',\n",
    "                   'Total Items']\n",
    "\n",
    "byAge['Average Purchase Price'] = byAge['Purchase Total'] / byAge['Total Items']\n",
    "\n",
    "byAge = byAge[['Player Count','Total Items', 'Average Purchase Price','Purchase Total', 'Average Purchase per Person']]\n",
    "byAge['Average Purchase Price'] = byAge['Average Purchase Price'].map('${:0.2f}'.format)\n",
    "byAge['Average Purchase per Person'] = byAge['Average Purchase per Person'].map('${:0.2f}'.format)\n",
    "byAge['Purchase Total'] = byAge['Purchase Total'].map('${:0.2f}'.format)"
   ]
  },
  {
   "cell_type": "code",
   "execution_count": 20,
   "metadata": {},
   "outputs": [
    {
     "data": {
      "text/html": [
       "<div>\n",
       "<style scoped>\n",
       "    .dataframe tbody tr th:only-of-type {\n",
       "        vertical-align: middle;\n",
       "    }\n",
       "\n",
       "    .dataframe tbody tr th {\n",
       "        vertical-align: top;\n",
       "    }\n",
       "\n",
       "    .dataframe thead th {\n",
       "        text-align: right;\n",
       "    }\n",
       "</style>\n",
       "<table border=\"1\" class=\"dataframe\">\n",
       "  <thead>\n",
       "    <tr style=\"text-align: right;\">\n",
       "      <th></th>\n",
       "      <th>Player Count</th>\n",
       "      <th>Total Items</th>\n",
       "      <th>Average Purchase Price</th>\n",
       "      <th>Purchase Total</th>\n",
       "      <th>Average Purchase per Person</th>\n",
       "    </tr>\n",
       "    <tr>\n",
       "      <th>Age Category</th>\n",
       "      <th></th>\n",
       "      <th></th>\n",
       "      <th></th>\n",
       "      <th></th>\n",
       "      <th></th>\n",
       "    </tr>\n",
       "  </thead>\n",
       "  <tbody>\n",
       "    <tr>\n",
       "      <th>&lt; 10</th>\n",
       "      <td>24</td>\n",
       "      <td>32</td>\n",
       "      <td>$3.41</td>\n",
       "      <td>$108.96</td>\n",
       "      <td>$4.54</td>\n",
       "    </tr>\n",
       "    <tr>\n",
       "      <th>10-14</th>\n",
       "      <td>15</td>\n",
       "      <td>19</td>\n",
       "      <td>$2.68</td>\n",
       "      <td>$50.95</td>\n",
       "      <td>$3.40</td>\n",
       "    </tr>\n",
       "    <tr>\n",
       "      <th>14-18</th>\n",
       "      <td>90</td>\n",
       "      <td>113</td>\n",
       "      <td>$3.03</td>\n",
       "      <td>$342.91</td>\n",
       "      <td>$3.81</td>\n",
       "    </tr>\n",
       "    <tr>\n",
       "      <th>18-22</th>\n",
       "      <td>178</td>\n",
       "      <td>254</td>\n",
       "      <td>$3.04</td>\n",
       "      <td>$771.89</td>\n",
       "      <td>$4.34</td>\n",
       "    </tr>\n",
       "    <tr>\n",
       "      <th>22-26</th>\n",
       "      <td>151</td>\n",
       "      <td>207</td>\n",
       "      <td>$3.06</td>\n",
       "      <td>$634.24</td>\n",
       "      <td>$4.20</td>\n",
       "    </tr>\n",
       "    <tr>\n",
       "      <th>26-30</th>\n",
       "      <td>48</td>\n",
       "      <td>63</td>\n",
       "      <td>$2.88</td>\n",
       "      <td>$181.23</td>\n",
       "      <td>$3.78</td>\n",
       "    </tr>\n",
       "    <tr>\n",
       "      <th>30-34</th>\n",
       "      <td>27</td>\n",
       "      <td>38</td>\n",
       "      <td>$2.73</td>\n",
       "      <td>$103.68</td>\n",
       "      <td>$3.84</td>\n",
       "    </tr>\n",
       "    <tr>\n",
       "      <th>34-38</th>\n",
       "      <td>25</td>\n",
       "      <td>35</td>\n",
       "      <td>$3.55</td>\n",
       "      <td>$124.35</td>\n",
       "      <td>$4.97</td>\n",
       "    </tr>\n",
       "    <tr>\n",
       "      <th>38-42</th>\n",
       "      <td>14</td>\n",
       "      <td>15</td>\n",
       "      <td>$3.37</td>\n",
       "      <td>$50.50</td>\n",
       "      <td>$3.61</td>\n",
       "    </tr>\n",
       "    <tr>\n",
       "      <th>&gt; 42</th>\n",
       "      <td>4</td>\n",
       "      <td>4</td>\n",
       "      <td>$2.77</td>\n",
       "      <td>$11.06</td>\n",
       "      <td>$2.77</td>\n",
       "    </tr>\n",
       "  </tbody>\n",
       "</table>\n",
       "</div>"
      ],
      "text/plain": [
       "              Player Count  Total Items Average Purchase Price Purchase Total  \\\n",
       "Age Category                                                                    \n",
       "< 10                    24           32                  $3.41        $108.96   \n",
       "10-14                   15           19                  $2.68         $50.95   \n",
       "14-18                   90          113                  $3.03        $342.91   \n",
       "18-22                  178          254                  $3.04        $771.89   \n",
       "22-26                  151          207                  $3.06        $634.24   \n",
       "26-30                   48           63                  $2.88        $181.23   \n",
       "30-34                   27           38                  $2.73        $103.68   \n",
       "34-38                   25           35                  $3.55        $124.35   \n",
       "38-42                   14           15                  $3.37         $50.50   \n",
       "> 42                     4            4                  $2.77         $11.06   \n",
       "\n",
       "             Average Purchase per Person  \n",
       "Age Category                              \n",
       "< 10                               $4.54  \n",
       "10-14                              $3.40  \n",
       "14-18                              $3.81  \n",
       "18-22                              $4.34  \n",
       "22-26                              $4.20  \n",
       "26-30                              $3.78  \n",
       "30-34                              $3.84  \n",
       "34-38                              $4.97  \n",
       "38-42                              $3.61  \n",
       "> 42                               $2.77  "
      ]
     },
     "execution_count": 20,
     "metadata": {},
     "output_type": "execute_result"
    }
   ],
   "source": [
    "byAge"
   ]
  },
  {
   "cell_type": "markdown",
   "metadata": {},
   "source": [
    "## Top Spenders"
   ]
  },
  {
   "cell_type": "code",
   "execution_count": 21,
   "metadata": {},
   "outputs": [
    {
     "data": {
      "text/html": [
       "<div>\n",
       "<style scoped>\n",
       "    .dataframe tbody tr th:only-of-type {\n",
       "        vertical-align: middle;\n",
       "    }\n",
       "\n",
       "    .dataframe tbody tr th {\n",
       "        vertical-align: top;\n",
       "    }\n",
       "\n",
       "    .dataframe thead th {\n",
       "        text-align: right;\n",
       "    }\n",
       "</style>\n",
       "<table border=\"1\" class=\"dataframe\">\n",
       "  <thead>\n",
       "    <tr style=\"text-align: right;\">\n",
       "      <th></th>\n",
       "      <th>Quantity</th>\n",
       "      <th>Average</th>\n",
       "      <th>Purchase Total</th>\n",
       "    </tr>\n",
       "    <tr>\n",
       "      <th>Player ID</th>\n",
       "      <th></th>\n",
       "      <th></th>\n",
       "      <th></th>\n",
       "    </tr>\n",
       "  </thead>\n",
       "  <tbody>\n",
       "    <tr>\n",
       "      <th>Lisosia93</th>\n",
       "      <td>5</td>\n",
       "      <td>$3.79</td>\n",
       "      <td>$18.96</td>\n",
       "    </tr>\n",
       "    <tr>\n",
       "      <th>Idastidru52</th>\n",
       "      <td>4</td>\n",
       "      <td>$3.86</td>\n",
       "      <td>$15.45</td>\n",
       "    </tr>\n",
       "    <tr>\n",
       "      <th>Chamjask73</th>\n",
       "      <td>3</td>\n",
       "      <td>$4.61</td>\n",
       "      <td>$13.83</td>\n",
       "    </tr>\n",
       "    <tr>\n",
       "      <th>Iral74</th>\n",
       "      <td>4</td>\n",
       "      <td>$3.40</td>\n",
       "      <td>$13.62</td>\n",
       "    </tr>\n",
       "    <tr>\n",
       "      <th>Iskadarya95</th>\n",
       "      <td>3</td>\n",
       "      <td>$4.37</td>\n",
       "      <td>$13.10</td>\n",
       "    </tr>\n",
       "  </tbody>\n",
       "</table>\n",
       "</div>"
      ],
      "text/plain": [
       "             Quantity Average Purchase Total\n",
       "Player ID                                   \n",
       "Lisosia93           5   $3.79         $18.96\n",
       "Idastidru52         4   $3.86         $15.45\n",
       "Chamjask73          3   $4.61         $13.83\n",
       "Iral74              4   $3.40         $13.62\n",
       "Iskadarya95         3   $4.37         $13.10"
      ]
     },
     "execution_count": 21,
     "metadata": {},
     "output_type": "execute_result"
    }
   ],
   "source": [
    "top_df = purchase_data.groupby(['SN'])['Price'].agg(['count', 'mean', 'sum'])\n",
    "top_df = top_df.reset_index()\n",
    "top_df.rename(columns={'SN' : 'Player ID',\n",
    "                         'count' : 'Quantity',\n",
    "                       'mean': 'Average',\n",
    "                        'sum': 'Purchase Total'\n",
    "                        }, inplace = True)\n",
    "\n",
    "top_df.sort_values('Purchase Total',ascending = False, inplace = True)\n",
    "top_df = top_df.set_index('Player ID')\n",
    "top_df['Purchase Total'] = top_df['Purchase Total'].map('${:0.2f}'.format)\n",
    "top_df['Average'] = top_df['Average'].map('${:0.2f}'.format)\n",
    "\n",
    "\n",
    "top_df.iloc[:5,:]"
   ]
  },
  {
   "cell_type": "markdown",
   "metadata": {},
   "source": [
    "## Most Popular Items"
   ]
  },
  {
   "cell_type": "code",
   "execution_count": 22,
   "metadata": {},
   "outputs": [],
   "source": [
    "items_df = purchase_data[['Item ID', 'Item Name', 'Price']]\n",
    "\n",
    "lookup = items_df.drop_duplicates(subset=['Item ID'])\n",
    "\n",
    "df = items_df.groupby('Item ID',as_index=False,group_keys=False)['Price'].agg(['sum', 'count'])\n",
    "df1 = df.reset_index()\n",
    "df2_ = pd.merge(df1, lookup, on='Item ID')\n",
    "df2 = df2_.copy()\n",
    "\n",
    "\n",
    "df2['Price'] = df2['Price'].map('${:0.2f}'.format)\n",
    "df2['sum'] = df2['sum'].map('${:0.2f}'.format)\n",
    "df3 = df2.sort_values('count', ascending = False)\n",
    "\n",
    "df3 = df3[['Item ID','Item Name', 'count', 'Price', 'sum']]\n",
    "df3 = df3.rename(columns = {'Item ID': 'ID',\n",
    "                      'Item Name':'Name', \n",
    "                      'count': 'Quantity', \n",
    "                      'Price': 'Unit Price', \n",
    "                      'sum': 'Total'})\n",
    "df3=df3.set_index('ID')"
   ]
  },
  {
   "cell_type": "code",
   "execution_count": 23,
   "metadata": {},
   "outputs": [
    {
     "data": {
      "text/html": [
       "<div>\n",
       "<style scoped>\n",
       "    .dataframe tbody tr th:only-of-type {\n",
       "        vertical-align: middle;\n",
       "    }\n",
       "\n",
       "    .dataframe tbody tr th {\n",
       "        vertical-align: top;\n",
       "    }\n",
       "\n",
       "    .dataframe thead th {\n",
       "        text-align: right;\n",
       "    }\n",
       "</style>\n",
       "<table border=\"1\" class=\"dataframe\">\n",
       "  <thead>\n",
       "    <tr style=\"text-align: right;\">\n",
       "      <th></th>\n",
       "      <th>Name</th>\n",
       "      <th>Quantity</th>\n",
       "      <th>Unit Price</th>\n",
       "      <th>Total</th>\n",
       "    </tr>\n",
       "    <tr>\n",
       "      <th>ID</th>\n",
       "      <th></th>\n",
       "      <th></th>\n",
       "      <th></th>\n",
       "      <th></th>\n",
       "    </tr>\n",
       "  </thead>\n",
       "  <tbody>\n",
       "    <tr>\n",
       "      <th>92</th>\n",
       "      <td>Final Critic</td>\n",
       "      <td>13</td>\n",
       "      <td>$4.88</td>\n",
       "      <td>$59.99</td>\n",
       "    </tr>\n",
       "    <tr>\n",
       "      <th>178</th>\n",
       "      <td>Oathbreaker, Last Hope of the Breaking Storm</td>\n",
       "      <td>12</td>\n",
       "      <td>$4.23</td>\n",
       "      <td>$50.76</td>\n",
       "    </tr>\n",
       "    <tr>\n",
       "      <th>145</th>\n",
       "      <td>Fiery Glass Crusader</td>\n",
       "      <td>9</td>\n",
       "      <td>$4.58</td>\n",
       "      <td>$41.22</td>\n",
       "    </tr>\n",
       "    <tr>\n",
       "      <th>132</th>\n",
       "      <td>Persuasion</td>\n",
       "      <td>9</td>\n",
       "      <td>$3.19</td>\n",
       "      <td>$28.99</td>\n",
       "    </tr>\n",
       "    <tr>\n",
       "      <th>108</th>\n",
       "      <td>Extraction, Quickblade Of Trembling Hands</td>\n",
       "      <td>9</td>\n",
       "      <td>$3.53</td>\n",
       "      <td>$31.77</td>\n",
       "    </tr>\n",
       "    <tr>\n",
       "      <th>...</th>\n",
       "      <td>...</td>\n",
       "      <td>...</td>\n",
       "      <td>...</td>\n",
       "      <td>...</td>\n",
       "    </tr>\n",
       "    <tr>\n",
       "      <th>42</th>\n",
       "      <td>The Decapitator</td>\n",
       "      <td>1</td>\n",
       "      <td>$1.75</td>\n",
       "      <td>$1.75</td>\n",
       "    </tr>\n",
       "    <tr>\n",
       "      <th>51</th>\n",
       "      <td>Endbringer</td>\n",
       "      <td>1</td>\n",
       "      <td>$4.66</td>\n",
       "      <td>$4.66</td>\n",
       "    </tr>\n",
       "    <tr>\n",
       "      <th>118</th>\n",
       "      <td>Ghost Reaver, Longsword of Magic</td>\n",
       "      <td>1</td>\n",
       "      <td>$2.17</td>\n",
       "      <td>$2.17</td>\n",
       "    </tr>\n",
       "    <tr>\n",
       "      <th>104</th>\n",
       "      <td>Gladiator's Glaive</td>\n",
       "      <td>1</td>\n",
       "      <td>$1.93</td>\n",
       "      <td>$1.93</td>\n",
       "    </tr>\n",
       "    <tr>\n",
       "      <th>91</th>\n",
       "      <td>Celeste</td>\n",
       "      <td>1</td>\n",
       "      <td>$4.17</td>\n",
       "      <td>$4.17</td>\n",
       "    </tr>\n",
       "  </tbody>\n",
       "</table>\n",
       "<p>179 rows × 4 columns</p>\n",
       "</div>"
      ],
      "text/plain": [
       "                                             Name  Quantity Unit Price   Total\n",
       "ID                                                                            \n",
       "92                                   Final Critic        13      $4.88  $59.99\n",
       "178  Oathbreaker, Last Hope of the Breaking Storm        12      $4.23  $50.76\n",
       "145                          Fiery Glass Crusader         9      $4.58  $41.22\n",
       "132                                    Persuasion         9      $3.19  $28.99\n",
       "108     Extraction, Quickblade Of Trembling Hands         9      $3.53  $31.77\n",
       "..                                            ...       ...        ...     ...\n",
       "42                                The Decapitator         1      $1.75   $1.75\n",
       "51                                     Endbringer         1      $4.66   $4.66\n",
       "118              Ghost Reaver, Longsword of Magic         1      $2.17   $2.17\n",
       "104                            Gladiator's Glaive         1      $1.93   $1.93\n",
       "91                                        Celeste         1      $4.17   $4.17\n",
       "\n",
       "[179 rows x 4 columns]"
      ]
     },
     "execution_count": 23,
     "metadata": {},
     "output_type": "execute_result"
    }
   ],
   "source": [
    "df3"
   ]
  },
  {
   "cell_type": "markdown",
   "metadata": {},
   "source": [
    "## Most Profitable Items"
   ]
  },
  {
   "cell_type": "markdown",
   "metadata": {},
   "source": [
    "* Sort the above table by total purchase value in descending order\n",
    "\n",
    "\n",
    "* Optional: give the displayed data cleaner formatting\n",
    "\n",
    "\n",
    "* Display a preview of the data frame\n",
    "\n"
   ]
  },
  {
   "cell_type": "code",
   "execution_count": 24,
   "metadata": {
    "scrolled": true
   },
   "outputs": [],
   "source": [
    "df4 = df2_.copy()\n",
    "\n",
    "df4 = df4[['Item ID','Item Name', 'count', 'Price', 'sum']]\n",
    "\n",
    "df5 = df4.sort_values('sum', ascending =False)\n",
    "\n",
    "df5['Price'] = df5['Price'].map('${:0.2f}'.format)\n",
    "df5['sum'] = df5['sum'].map('${:0.2f}'.format)\n",
    "\n",
    "df6 = df5.rename(columns = {'Item ID': 'ID',\n",
    "                      'Item Name':'Name', \n",
    "                      'count': 'Quantity', \n",
    "                      'Price': 'Unit Price', \n",
    "                      'sum': 'Total'})\n",
    "df6 = df6.set_index(\"ID\")"
   ]
  },
  {
   "cell_type": "code",
   "execution_count": 25,
   "metadata": {},
   "outputs": [
    {
     "data": {
      "text/html": [
       "<div>\n",
       "<style scoped>\n",
       "    .dataframe tbody tr th:only-of-type {\n",
       "        vertical-align: middle;\n",
       "    }\n",
       "\n",
       "    .dataframe tbody tr th {\n",
       "        vertical-align: top;\n",
       "    }\n",
       "\n",
       "    .dataframe thead th {\n",
       "        text-align: right;\n",
       "    }\n",
       "</style>\n",
       "<table border=\"1\" class=\"dataframe\">\n",
       "  <thead>\n",
       "    <tr style=\"text-align: right;\">\n",
       "      <th></th>\n",
       "      <th>Name</th>\n",
       "      <th>Quantity</th>\n",
       "      <th>Unit Price</th>\n",
       "      <th>Total</th>\n",
       "    </tr>\n",
       "    <tr>\n",
       "      <th>ID</th>\n",
       "      <th></th>\n",
       "      <th></th>\n",
       "      <th></th>\n",
       "      <th></th>\n",
       "    </tr>\n",
       "  </thead>\n",
       "  <tbody>\n",
       "    <tr>\n",
       "      <th>92</th>\n",
       "      <td>Final Critic</td>\n",
       "      <td>13</td>\n",
       "      <td>$4.88</td>\n",
       "      <td>$59.99</td>\n",
       "    </tr>\n",
       "    <tr>\n",
       "      <th>178</th>\n",
       "      <td>Oathbreaker, Last Hope of the Breaking Storm</td>\n",
       "      <td>12</td>\n",
       "      <td>$4.23</td>\n",
       "      <td>$50.76</td>\n",
       "    </tr>\n",
       "    <tr>\n",
       "      <th>82</th>\n",
       "      <td>Nirvana</td>\n",
       "      <td>9</td>\n",
       "      <td>$4.90</td>\n",
       "      <td>$44.10</td>\n",
       "    </tr>\n",
       "    <tr>\n",
       "      <th>145</th>\n",
       "      <td>Fiery Glass Crusader</td>\n",
       "      <td>9</td>\n",
       "      <td>$4.58</td>\n",
       "      <td>$41.22</td>\n",
       "    </tr>\n",
       "    <tr>\n",
       "      <th>103</th>\n",
       "      <td>Singed Scalpel</td>\n",
       "      <td>8</td>\n",
       "      <td>$4.35</td>\n",
       "      <td>$34.80</td>\n",
       "    </tr>\n",
       "    <tr>\n",
       "      <th>...</th>\n",
       "      <td>...</td>\n",
       "      <td>...</td>\n",
       "      <td>...</td>\n",
       "      <td>...</td>\n",
       "    </tr>\n",
       "    <tr>\n",
       "      <th>28</th>\n",
       "      <td>Flux, Destroyer of Due Diligence</td>\n",
       "      <td>2</td>\n",
       "      <td>$1.06</td>\n",
       "      <td>$2.12</td>\n",
       "    </tr>\n",
       "    <tr>\n",
       "      <th>125</th>\n",
       "      <td>Whistling Mithril Warblade</td>\n",
       "      <td>2</td>\n",
       "      <td>$1.00</td>\n",
       "      <td>$2.00</td>\n",
       "    </tr>\n",
       "    <tr>\n",
       "      <th>126</th>\n",
       "      <td>Exiled Mithril Longsword</td>\n",
       "      <td>1</td>\n",
       "      <td>$2.00</td>\n",
       "      <td>$2.00</td>\n",
       "    </tr>\n",
       "    <tr>\n",
       "      <th>104</th>\n",
       "      <td>Gladiator's Glaive</td>\n",
       "      <td>1</td>\n",
       "      <td>$1.93</td>\n",
       "      <td>$1.93</td>\n",
       "    </tr>\n",
       "    <tr>\n",
       "      <th>42</th>\n",
       "      <td>The Decapitator</td>\n",
       "      <td>1</td>\n",
       "      <td>$1.75</td>\n",
       "      <td>$1.75</td>\n",
       "    </tr>\n",
       "  </tbody>\n",
       "</table>\n",
       "<p>179 rows × 4 columns</p>\n",
       "</div>"
      ],
      "text/plain": [
       "                                             Name  Quantity Unit Price   Total\n",
       "ID                                                                            \n",
       "92                                   Final Critic        13      $4.88  $59.99\n",
       "178  Oathbreaker, Last Hope of the Breaking Storm        12      $4.23  $50.76\n",
       "82                                        Nirvana         9      $4.90  $44.10\n",
       "145                          Fiery Glass Crusader         9      $4.58  $41.22\n",
       "103                                Singed Scalpel         8      $4.35  $34.80\n",
       "..                                            ...       ...        ...     ...\n",
       "28               Flux, Destroyer of Due Diligence         2      $1.06   $2.12\n",
       "125                    Whistling Mithril Warblade         2      $1.00   $2.00\n",
       "126                      Exiled Mithril Longsword         1      $2.00   $2.00\n",
       "104                            Gladiator's Glaive         1      $1.93   $1.93\n",
       "42                                The Decapitator         1      $1.75   $1.75\n",
       "\n",
       "[179 rows x 4 columns]"
      ]
     },
     "execution_count": 25,
     "metadata": {},
     "output_type": "execute_result"
    }
   ],
   "source": [
    "df6"
   ]
  },
  {
   "cell_type": "markdown",
   "metadata": {},
   "source": [
    "## Summary\n",
    "\n",
    "The world of _Heroes of Pymoli_ has a done well this quarter. It has sold a total of 780 of items for a revenue of $2379.77. While some females take part in our game, 84\\% of our customers are male with most of them between 18 and 22 years old. \n",
    "\n",
    "This past quarter our <u>best</u> selling item was __Final Critic__ at 13 units for a revenue of $59.99.\n",
    "\n",
    "Let's keep up the good work!\n",
    "\n",
    "___The Boss___"
   ]
  },
  {
   "cell_type": "code",
   "execution_count": null,
   "metadata": {},
   "outputs": [],
   "source": []
  }
 ],
 "metadata": {
  "anaconda-cloud": {},
  "kernel_info": {
   "name": "python3"
  },
  "kernelspec": {
   "display_name": "Python (IOS_ML_BOOK)",
   "language": "python",
   "name": "ios_ml_book"
  },
  "language_info": {
   "codemirror_mode": {
    "name": "ipython",
    "version": 3
   },
   "file_extension": ".py",
   "mimetype": "text/x-python",
   "name": "python",
   "nbconvert_exporter": "python",
   "pygments_lexer": "ipython3",
   "version": "3.8.6"
  },
  "latex_envs": {
   "LaTeX_envs_menu_present": true,
   "autoclose": false,
   "autocomplete": true,
   "bibliofile": "biblio.bib",
   "cite_by": "apalike",
   "current_citInitial": 1,
   "eqLabelWithNumbers": true,
   "eqNumInitial": 1,
   "hotkeys": {
    "equation": "Ctrl-E",
    "itemize": "Ctrl-I"
   },
   "labels_anchors": false,
   "latex_user_defs": false,
   "report_style_numbering": false,
   "user_envs_cfg": false
  },
  "nteract": {
   "version": "0.2.0"
  }
 },
 "nbformat": 4,
 "nbformat_minor": 2
}
